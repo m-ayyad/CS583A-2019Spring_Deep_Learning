{
 "cells": [
  {
   "cell_type": "code",
   "execution_count": 2,
   "metadata": {},
   "outputs": [],
   "source": [
    "import pickle\n",
    "\n",
    "result = pickle.load(open(\"data.dat\", \"rb\"))"
   ]
  },
  {
   "cell_type": "code",
   "execution_count": null,
   "metadata": {},
   "outputs": [],
   "source": [
    "result.shape"
   ]
  },
  {
   "cell_type": "code",
   "execution_count": null,
   "metadata": {},
   "outputs": [],
   "source": [
    "result.columns"
   ]
  },
  {
   "cell_type": "code",
   "execution_count": 3,
   "metadata": {},
   "outputs": [],
   "source": [
    "target = result.iloc[:,1].values\n",
    "train  = result.iloc[:,0].values"
   ]
  },
  {
   "cell_type": "code",
   "execution_count": 4,
   "metadata": {},
   "outputs": [],
   "source": [
    "del result"
   ]
  },
  {
   "cell_type": "code",
   "execution_count": 5,
   "metadata": {},
   "outputs": [],
   "source": [
    "import numpy\n",
    "\n",
    "rand_indices = numpy.random.permutation(629145480)\n",
    "train_indices = rand_indices[0:600000000]\n",
    "valid_indices = rand_indices[600000000:]"
   ]
  },
  {
   "cell_type": "code",
   "execution_count": 6,
   "metadata": {},
   "outputs": [
    {
     "name": "stdout",
     "output_type": "stream",
     "text": [
      "Shape of x_tr: (600000000,)\n",
      "Shape of y_tr: (600000000,)\n",
      "Shape of x_val: (29145480,)\n",
      "Shape of y_val: (29145480,)\n"
     ]
    }
   ],
   "source": [
    "x_val = train [valid_indices]\n",
    "y_val = target[valid_indices]\n",
    "\n",
    "x_tr = train [train_indices]\n",
    "y_tr = target[train_indices]\n",
    "\n",
    "print('Shape of x_tr: ' + str(x_tr.shape))\n",
    "print('Shape of y_tr: ' + str(y_tr.shape))\n",
    "print('Shape of x_val: ' + str(x_val.shape))\n",
    "print('Shape of y_val: ' + str(y_val.shape))"
   ]
  },
  {
   "cell_type": "code",
   "execution_count": 7,
   "metadata": {},
   "outputs": [],
   "source": [
    "del train, target"
   ]
  },
  {
   "cell_type": "code",
   "execution_count": null,
   "metadata": {},
   "outputs": [],
   "source": [
    "x_tr = x_tr.reshape(-1, 1)\n",
    "y_tr = y_tr.reshape(-1, 1)"
   ]
  },
  {
   "cell_type": "code",
   "execution_count": null,
   "metadata": {},
   "outputs": [],
   "source": [
    "from sklearn.linear_model import LinearRegression\n",
    "\n",
    "reg = LinearRegression().fit(x_tr, y_tr)"
   ]
  },
  {
   "cell_type": "code",
   "execution_count": null,
   "metadata": {},
   "outputs": [],
   "source": [
    "x_val = x_val.reshape(-1, 1)\n",
    "y_val = y_val.reshape(-1, 1)"
   ]
  },
  {
   "cell_type": "code",
   "execution_count": null,
   "metadata": {},
   "outputs": [],
   "source": [
    "y = reg.predict(x_val)"
   ]
  },
  {
   "cell_type": "code",
   "execution_count": null,
   "metadata": {},
   "outputs": [],
   "source": [
    "from sklearn.metrics import mean_absolute_error\n",
    "\n",
    "mean_absolute_error(y_val, y)"
   ]
  },
  {
   "cell_type": "code",
   "execution_count": null,
   "metadata": {},
   "outputs": [],
   "source": [
    "y"
   ]
  },
  {
   "cell_type": "code",
   "execution_count": null,
   "metadata": {},
   "outputs": [],
   "source": [
    "y_val"
   ]
  },
  {
   "cell_type": "code",
   "execution_count": 8,
   "metadata": {},
   "outputs": [
    {
     "name": "stderr",
     "output_type": "stream",
     "text": [
      "Using TensorFlow backend.\n"
     ]
    }
   ],
   "source": [
    "from keras.models import Sequential\n",
    "from keras.layers import Dense\n",
    "\n",
    "model = Sequential()\n",
    "model.add(Dense(1000, activation='relu', input_shape=(1,)))\n",
    "\n",
    "model.add(Dense(1, activation='relu'))"
   ]
  },
  {
   "cell_type": "code",
   "execution_count": 9,
   "metadata": {},
   "outputs": [
    {
     "name": "stdout",
     "output_type": "stream",
     "text": [
      "_________________________________________________________________\n",
      "Layer (type)                 Output Shape              Param #   \n",
      "=================================================================\n",
      "dense_1 (Dense)              (None, 1000)              2000      \n",
      "_________________________________________________________________\n",
      "dense_2 (Dense)              (None, 1)                 1001      \n",
      "=================================================================\n",
      "Total params: 3,001\n",
      "Trainable params: 3,001\n",
      "Non-trainable params: 0\n",
      "_________________________________________________________________\n"
     ]
    }
   ],
   "source": [
    "model.summary()"
   ]
  },
  {
   "cell_type": "code",
   "execution_count": 11,
   "metadata": {},
   "outputs": [],
   "source": [
    "from keras import optimizers, metrics\n",
    "\n",
    "model.compile(loss='mean_absolute_error', optimizer=optimizers.RMSprop(lr=1E-4), metrics=['acc'])"
   ]
  },
  {
   "cell_type": "code",
   "execution_count": 12,
   "metadata": {},
   "outputs": [
    {
     "name": "stdout",
     "output_type": "stream",
     "text": [
      "Train on 600000000 samples, validate on 29145480 samples\n",
      "Epoch 1/10\n",
      "600000000/600000000 [==============================] - 2233s 4us/step - loss: 3.0136 - acc: 7.7000e-07 - val_loss: 3.0120 - val_acc: 6.1759e-07\n",
      "Epoch 2/10\n",
      "600000000/600000000 [==============================] - 2235s 4us/step - loss: 3.0123 - acc: 7.6667e-07 - val_loss: 3.0121 - val_acc: 6.1759e-07\n",
      "Epoch 3/10\n",
      "600000000/600000000 [==============================] - 2223s 4us/step - loss: 3.0123 - acc: 7.7667e-07 - val_loss: 3.0125 - val_acc: 6.1759e-07\n",
      "Epoch 4/10\n",
      "600000000/600000000 [==============================] - 2225s 4us/step - loss: 3.0123 - acc: 7.7333e-07 - val_loss: 3.0121 - val_acc: 6.1759e-07\n",
      "Epoch 5/10\n",
      "600000000/600000000 [==============================] - 2591s 4us/step - loss: 3.0123 - acc: 7.6333e-07 - val_loss: 3.0124 - val_acc: 6.1759e-07\n",
      "Epoch 6/10\n",
      "600000000/600000000 [==============================] - 2712s 5us/step - loss: 3.0123 - acc: 7.7333e-07 - val_loss: 3.0120 - val_acc: 6.1759e-07\n",
      "Epoch 7/10\n",
      "600000000/600000000 [==============================] - 2709s 5us/step - loss: 3.0123 - acc: 7.7667e-07 - val_loss: 3.0125 - val_acc: 6.1759e-07\n",
      "Epoch 8/10\n",
      "600000000/600000000 [==============================] - 2625s 4us/step - loss: 3.0122 - acc: 7.7833e-07 - val_loss: 3.0121 - val_acc: 6.1759e-07\n",
      "Epoch 9/10\n",
      "600000000/600000000 [==============================] - 2595s 4us/step - loss: 3.0122 - acc: 7.7000e-07 - val_loss: 3.0126 - val_acc: 5.1466e-07\n",
      "Epoch 10/10\n",
      "600000000/600000000 [==============================] - 2595s 4us/step - loss: 3.0122 - acc: 7.7167e-07 - val_loss: 3.0120 - val_acc: 6.1759e-07\n"
     ]
    }
   ],
   "source": [
    "history = model.fit(x_tr, y_tr, batch_size=1024, epochs=10, validation_data=(x_val, y_val))"
   ]
  },
  {
   "cell_type": "code",
   "execution_count": null,
   "metadata": {},
   "outputs": [],
   "source": []
  }
 ],
 "metadata": {
  "kernelspec": {
   "display_name": "Python 3",
   "language": "python",
   "name": "python3"
  },
  "language_info": {
   "codemirror_mode": {
    "name": "ipython",
    "version": 3
   },
   "file_extension": ".py",
   "mimetype": "text/x-python",
   "name": "python",
   "nbconvert_exporter": "python",
   "pygments_lexer": "ipython3",
   "version": "3.6.7"
  }
 },
 "nbformat": 4,
 "nbformat_minor": 2
}
