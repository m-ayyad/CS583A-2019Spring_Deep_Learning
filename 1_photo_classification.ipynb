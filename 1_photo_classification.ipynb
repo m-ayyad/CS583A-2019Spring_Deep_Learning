{
 "cells": [
  {
   "cell_type": "markdown",
   "metadata": {},
   "source": [
    "This notebook is the first coding homework in the Deep Learning class\n",
    "\n",
    "It is about photo classification using the Cifar10 dataset provided by Keras\n",
    "\n",
    "I used a regular CNN model with data augmentation to increase the size of the dataset."
   ]
  },
  {
   "cell_type": "code",
   "execution_count": 1,
   "metadata": {},
   "outputs": [
    {
     "name": "stderr",
     "output_type": "stream",
     "text": [
      "Using TensorFlow backend.\n"
     ]
    },
    {
     "name": "stdout",
     "output_type": "stream",
     "text": [
      "shape of x_train: (50000, 32, 32, 3)\n",
      "shape of y_train: (50000, 1)\n",
      "shape of x_test: (10000, 32, 32, 3)\n",
      "shape of y_test: (10000, 1)\n",
      "number of classes: 10\n"
     ]
    }
   ],
   "source": [
    "from keras.datasets import cifar10\n",
    "import numpy\n",
    "\n",
    "# load the cifar10 dataset\n",
    "(x_train, y_train), (x_test, y_test) = cifar10.load_data()\n",
    "\n",
    "# normalize the data\n",
    "x_test  = x_test /x_train.max()\n",
    "x_train = x_train/x_train.max()\n",
    "\n",
    "print('shape of x_train: ' + str(x_train.shape))\n",
    "print('shape of y_train: ' + str(y_train.shape))\n",
    "print('shape of x_test: ' + str(x_test.shape))\n",
    "print('shape of y_test: ' + str(y_test.shape))\n",
    "print('number of classes: ' + str(numpy.max(y_train) - numpy.min(y_train) + 1))"
   ]
  },
  {
   "cell_type": "code",
   "execution_count": 2,
   "metadata": {},
   "outputs": [
    {
     "name": "stdout",
     "output_type": "stream",
     "text": [
      "Shape of y_train_vec: (50000, 10)\n",
      "[6]\n",
      "[0. 0. 0. 0. 0. 0. 1. 0. 0. 0.]\n"
     ]
    }
   ],
   "source": [
    "# encode the labels to one hot encoded data\n",
    "def to_one_hot(y, num_class=10):\n",
    "    results = numpy.zeros((len(y), num_class))\n",
    "    for i in range(0, len(y)):\n",
    "        results[i][int(y[i])] = 1.\n",
    "    return results\n",
    "\n",
    "y_train_vec = to_one_hot(y_train)\n",
    "\n",
    "print('Shape of y_train_vec: ' + str(y_train_vec.shape))\n",
    "\n",
    "print(y_train[0])\n",
    "print(y_train_vec[0])"
   ]
  },
  {
   "cell_type": "code",
   "execution_count": 3,
   "metadata": {},
   "outputs": [
    {
     "name": "stdout",
     "output_type": "stream",
     "text": [
      "Shape of x_tr: (40000, 32, 32, 3)\n",
      "Shape of y_tr: (40000, 10)\n",
      "Shape of x_val: (10000, 32, 32, 3)\n",
      "Shape of y_val: (10000, 10)\n"
     ]
    }
   ],
   "source": [
    "# divide the dataset to training and validation\n",
    "\n",
    "rand_indices = numpy.random.permutation(50000)\n",
    "train_indices = rand_indices[0:40000]\n",
    "valid_indices = rand_indices[40000:50000]\n",
    "\n",
    "x_val = x_train[valid_indices, :]\n",
    "y_val = y_train_vec[valid_indices, :]\n",
    "\n",
    "x_tr = x_train[train_indices, :]\n",
    "y_tr = y_train_vec[train_indices, :]\n",
    "\n",
    "print('Shape of x_tr: ' + str(x_tr.shape))\n",
    "print('Shape of y_tr: ' + str(y_tr.shape))\n",
    "print('Shape of x_val: ' + str(x_val.shape))\n",
    "print('Shape of y_val: ' + str(y_val.shape))"
   ]
  },
  {
   "cell_type": "code",
   "execution_count": 4,
   "metadata": {},
   "outputs": [
    {
     "name": "stdout",
     "output_type": "stream",
     "text": [
      "_________________________________________________________________\n",
      "Layer (type)                 Output Shape              Param #   \n",
      "=================================================================\n",
      "batch_normalization_1 (Batch (None, 32, 32, 3)         12        \n",
      "_________________________________________________________________\n",
      "conv2d_1 (Conv2D)            (None, 32, 32, 32)        896       \n",
      "_________________________________________________________________\n",
      "batch_normalization_2 (Batch (None, 32, 32, 32)        128       \n",
      "_________________________________________________________________\n",
      "activation_1 (Activation)    (None, 32, 32, 32)        0         \n",
      "_________________________________________________________________\n",
      "conv2d_2 (Conv2D)            (None, 32, 32, 32)        9248      \n",
      "_________________________________________________________________\n",
      "batch_normalization_3 (Batch (None, 32, 32, 32)        128       \n",
      "_________________________________________________________________\n",
      "activation_2 (Activation)    (None, 32, 32, 32)        0         \n",
      "_________________________________________________________________\n",
      "max_pooling2d_1 (MaxPooling2 (None, 16, 16, 32)        0         \n",
      "_________________________________________________________________\n",
      "conv2d_3 (Conv2D)            (None, 16, 16, 64)        18496     \n",
      "_________________________________________________________________\n",
      "batch_normalization_4 (Batch (None, 16, 16, 64)        256       \n",
      "_________________________________________________________________\n",
      "activation_3 (Activation)    (None, 16, 16, 64)        0         \n",
      "_________________________________________________________________\n",
      "conv2d_4 (Conv2D)            (None, 16, 16, 64)        36928     \n",
      "_________________________________________________________________\n",
      "batch_normalization_5 (Batch (None, 16, 16, 64)        256       \n",
      "_________________________________________________________________\n",
      "activation_4 (Activation)    (None, 16, 16, 64)        0         \n",
      "_________________________________________________________________\n",
      "max_pooling2d_2 (MaxPooling2 (None, 8, 8, 64)          0         \n",
      "_________________________________________________________________\n",
      "conv2d_5 (Conv2D)            (None, 8, 8, 128)         73856     \n",
      "_________________________________________________________________\n",
      "batch_normalization_6 (Batch (None, 8, 8, 128)         512       \n",
      "_________________________________________________________________\n",
      "activation_5 (Activation)    (None, 8, 8, 128)         0         \n",
      "_________________________________________________________________\n",
      "conv2d_6 (Conv2D)            (None, 8, 8, 128)         147584    \n",
      "_________________________________________________________________\n",
      "batch_normalization_7 (Batch (None, 8, 8, 128)         512       \n",
      "_________________________________________________________________\n",
      "activation_6 (Activation)    (None, 8, 8, 128)         0         \n",
      "_________________________________________________________________\n",
      "max_pooling2d_3 (MaxPooling2 (None, 4, 4, 128)         0         \n",
      "_________________________________________________________________\n",
      "flatten_1 (Flatten)          (None, 2048)              0         \n",
      "_________________________________________________________________\n",
      "dropout_1 (Dropout)          (None, 2048)              0         \n",
      "_________________________________________________________________\n",
      "dense_1 (Dense)              (None, 512)               1049088   \n",
      "_________________________________________________________________\n",
      "dense_2 (Dense)              (None, 10)                5130      \n",
      "=================================================================\n",
      "Total params: 1,343,030\n",
      "Trainable params: 1,342,128\n",
      "Non-trainable params: 902\n",
      "_________________________________________________________________\n"
     ]
    }
   ],
   "source": [
    "# create the ANN model\n",
    "\n",
    "from keras.layers import Conv2D, MaxPooling2D, Flatten, Dense, LeakyReLU, Dropout, regularizers\n",
    "from keras.layers import BatchNormalization, Activation\n",
    "from keras.models import Sequential\n",
    "\n",
    "model = Sequential()\n",
    "model.add(BatchNormalization(input_shape=x_train.shape[1:]))\n",
    "model.add(Conv2D(32, (3, 3), padding='same'))\n",
    "model.add(BatchNormalization())\n",
    "model.add(Activation('relu'))\n",
    "model.add(Conv2D(32, (3, 3), padding='same'))\n",
    "model.add(BatchNormalization())\n",
    "model.add(Activation('relu'))\n",
    "model.add(MaxPooling2D((2, 2)))\n",
    "\n",
    "model.add(Conv2D(64, (3, 3), padding='same'))\n",
    "model.add(BatchNormalization())\n",
    "model.add(Activation('relu'))\n",
    "model.add(Conv2D(64, (3, 3), padding='same'))\n",
    "model.add(BatchNormalization())\n",
    "model.add(Activation('relu'))\n",
    "model.add(MaxPooling2D((2, 2)))\n",
    "\n",
    "model.add(Conv2D(128, (3, 3), padding='same'))\n",
    "model.add(BatchNormalization())\n",
    "model.add(Activation('relu'))\n",
    "model.add(Conv2D(128, (3, 3), padding='same'))\n",
    "model.add(BatchNormalization())\n",
    "model.add(Activation('relu'))\n",
    "model.add(MaxPooling2D((2, 2)))\n",
    "\n",
    "model.add(Flatten())\n",
    "model.add(Dropout(0.4))\n",
    "model.add(Dense(512, activation='relu'))\n",
    "model.add(Dense(10, activation='softmax'))\n",
    "\n",
    "model.summary()"
   ]
  },
  {
   "cell_type": "code",
   "execution_count": 5,
   "metadata": {},
   "outputs": [
    {
     "name": "stdout",
     "output_type": "stream",
     "text": [
      "Shape of y_train_vec: (40000, 32, 32, 3)\n"
     ]
    }
   ],
   "source": [
    "# Augment the data\n",
    "\n",
    "from keras import optimizers\n",
    "from keras.preprocessing.image import ImageDataGenerator\n",
    "\n",
    "learning_rate = 0.0001 # to be tuned!\n",
    "\n",
    "model.compile(loss='categorical_crossentropy',\n",
    "              optimizer=optimizers.RMSprop(lr=learning_rate),\n",
    "              metrics=['acc'])\n",
    "\n",
    "datagen = ImageDataGenerator(\n",
    "        featurewise_center=False,  # set input mean to 0 over the dataset\n",
    "        samplewise_center=False,  # set each sample mean to 0\n",
    "        featurewise_std_normalization=False,  # divide inputs by std of the dataset\n",
    "        samplewise_std_normalization=False,  # divide each input by its std\n",
    "        zca_whitening=False,  # apply ZCA whitening\n",
    "        zca_epsilon=1e-06,  # epsilon for ZCA whitening\n",
    "        rotation_range=0,  # randomly rotate images in the range (degrees, 0 to 180)\n",
    "        # randomly shift images horizontally (fraction of total width)\n",
    "        width_shift_range=0.1,\n",
    "        # randomly shift images vertically (fraction of total height)\n",
    "        height_shift_range=0.1,\n",
    "        shear_range=0.,  # set range for random shear\n",
    "        zoom_range=0.,  # set range for random zoom\n",
    "        channel_shift_range=0.,  # set range for random channel shifts\n",
    "        # set mode for filling points outside the input boundaries\n",
    "        fill_mode='nearest',\n",
    "        cval=0.,  # value used for fill_mode = \"constant\"\n",
    "        horizontal_flip=True,  # randomly flip images\n",
    "        vertical_flip=False,  # randomly flip images\n",
    "        # set rescaling factor (applied before any other transformation)\n",
    "        rescale=None,\n",
    "        # set function that will be applied on each input\n",
    "        preprocessing_function=None,\n",
    "        # image data format, either \"channels_first\" or \"channels_last\"\n",
    "        data_format=None,\n",
    "        # fraction of images reserved for validation (strictly between 0 and 1)\n",
    "        validation_split=0.0)\n",
    "\n",
    "datagen.fit(x_tr)\n",
    "\n",
    "print('Shape of y_train_vec: ' + str(x_tr.shape))"
   ]
  },
  {
   "cell_type": "code",
   "execution_count": 6,
   "metadata": {},
   "outputs": [
    {
     "name": "stdout",
     "output_type": "stream",
     "text": [
      "Epoch 1/40\n",
      "1250/1250 [==============================] - 27s 22ms/step - loss: 1.6976 - acc: 0.3936 - val_loss: 1.2749 - val_acc: 0.5374\n",
      "Epoch 2/40\n",
      "1250/1250 [==============================] - 19s 16ms/step - loss: 1.3486 - acc: 0.5162 - val_loss: 1.2656 - val_acc: 0.5526\n",
      "Epoch 3/40\n",
      "1250/1250 [==============================] - 19s 15ms/step - loss: 1.2031 - acc: 0.5697 - val_loss: 1.0318 - val_acc: 0.6260\n",
      "Epoch 4/40\n",
      "1250/1250 [==============================] - 20s 16ms/step - loss: 1.1011 - acc: 0.6080 - val_loss: 0.9678 - val_acc: 0.6571\n",
      "Epoch 5/40\n",
      "1250/1250 [==============================] - 21s 16ms/step - loss: 1.0238 - acc: 0.6375 - val_loss: 0.9628 - val_acc: 0.6669\n",
      "Epoch 6/40\n",
      "1250/1250 [==============================] - 20s 16ms/step - loss: 0.9650 - acc: 0.6572 - val_loss: 1.0127 - val_acc: 0.6500\n",
      "Epoch 7/40\n",
      "1250/1250 [==============================] - 19s 15ms/step - loss: 0.9154 - acc: 0.6740 - val_loss: 0.7764 - val_acc: 0.7271\n",
      "Epoch 8/40\n",
      "1250/1250 [==============================] - 19s 15ms/step - loss: 0.8702 - acc: 0.6938 - val_loss: 0.7991 - val_acc: 0.7217\n",
      "Epoch 9/40\n",
      "1250/1250 [==============================] - 19s 15ms/step - loss: 0.8360 - acc: 0.7067 - val_loss: 0.7906 - val_acc: 0.7312\n",
      "Epoch 10/40\n",
      "1250/1250 [==============================] - 19s 15ms/step - loss: 0.8011 - acc: 0.7196 - val_loss: 0.7208 - val_acc: 0.7491\n",
      "Epoch 11/40\n",
      "1250/1250 [==============================] - 19s 15ms/step - loss: 0.7692 - acc: 0.7286 - val_loss: 0.7072 - val_acc: 0.7560\n",
      "Epoch 12/40\n",
      "1250/1250 [==============================] - 19s 15ms/step - loss: 0.7516 - acc: 0.7389 - val_loss: 0.6495 - val_acc: 0.7731\n",
      "Epoch 13/40\n",
      "1250/1250 [==============================] - 19s 15ms/step - loss: 0.7294 - acc: 0.7458 - val_loss: 0.6646 - val_acc: 0.7668\n",
      "Epoch 14/40\n",
      "1250/1250 [==============================] - 19s 15ms/step - loss: 0.7122 - acc: 0.7530 - val_loss: 0.6394 - val_acc: 0.7792\n",
      "Epoch 15/40\n",
      "1250/1250 [==============================] - 19s 15ms/step - loss: 0.6978 - acc: 0.7572 - val_loss: 0.6388 - val_acc: 0.7811\n",
      "Epoch 16/40\n",
      "1250/1250 [==============================] - 19s 15ms/step - loss: 0.6820 - acc: 0.7636 - val_loss: 0.6292 - val_acc: 0.7852\n",
      "Epoch 17/40\n",
      "1250/1250 [==============================] - 19s 15ms/step - loss: 0.6662 - acc: 0.7691 - val_loss: 0.6162 - val_acc: 0.7904\n",
      "Epoch 18/40\n",
      "1250/1250 [==============================] - 19s 15ms/step - loss: 0.6546 - acc: 0.7737 - val_loss: 0.6414 - val_acc: 0.7796\n",
      "Epoch 19/40\n",
      "1250/1250 [==============================] - 19s 15ms/step - loss: 0.6436 - acc: 0.7773 - val_loss: 0.6132 - val_acc: 0.7927\n",
      "Epoch 20/40\n",
      "1250/1250 [==============================] - 19s 15ms/step - loss: 0.6310 - acc: 0.7835 - val_loss: 0.7024 - val_acc: 0.7659\n",
      "Epoch 21/40\n",
      "1250/1250 [==============================] - 19s 15ms/step - loss: 0.6215 - acc: 0.7853 - val_loss: 0.6616 - val_acc: 0.7771\n",
      "Epoch 22/40\n",
      "1250/1250 [==============================] - 19s 15ms/step - loss: 0.6077 - acc: 0.7899 - val_loss: 0.5949 - val_acc: 0.8017\n",
      "Epoch 23/40\n",
      "1250/1250 [==============================] - 19s 15ms/step - loss: 0.6007 - acc: 0.7935 - val_loss: 0.6917 - val_acc: 0.7860\n",
      "Epoch 24/40\n",
      "1250/1250 [==============================] - 19s 15ms/step - loss: 0.5934 - acc: 0.7946 - val_loss: 0.6291 - val_acc: 0.7910\n",
      "Epoch 25/40\n",
      "1250/1250 [==============================] - 19s 15ms/step - loss: 0.5870 - acc: 0.7993 - val_loss: 0.5912 - val_acc: 0.8067\n",
      "Epoch 26/40\n",
      "1250/1250 [==============================] - 20s 16ms/step - loss: 0.5751 - acc: 0.8025 - val_loss: 0.6251 - val_acc: 0.7979\n",
      "Epoch 27/40\n",
      "1250/1250 [==============================] - 21s 16ms/step - loss: 0.5637 - acc: 0.8060 - val_loss: 0.6505 - val_acc: 0.7941\n",
      "Epoch 28/40\n",
      "1250/1250 [==============================] - 21s 16ms/step - loss: 0.5593 - acc: 0.8096 - val_loss: 0.6383 - val_acc: 0.8016\n",
      "Epoch 29/40\n",
      "1250/1250 [==============================] - 21s 17ms/step - loss: 0.5520 - acc: 0.8107 - val_loss: 0.6032 - val_acc: 0.8171\n",
      "Epoch 30/40\n",
      "1250/1250 [==============================] - 21s 17ms/step - loss: 0.5541 - acc: 0.8118 - val_loss: 0.6710 - val_acc: 0.7870\n",
      "Epoch 31/40\n",
      "1250/1250 [==============================] - 21s 16ms/step - loss: 0.5470 - acc: 0.8136 - val_loss: 0.5890 - val_acc: 0.8038\n",
      "Epoch 32/40\n",
      "1250/1250 [==============================] - 21s 16ms/step - loss: 0.5454 - acc: 0.8139 - val_loss: 0.6313 - val_acc: 0.7991\n",
      "Epoch 33/40\n",
      "1250/1250 [==============================] - 21s 16ms/step - loss: 0.5359 - acc: 0.8181 - val_loss: 0.5367 - val_acc: 0.8313\n",
      "Epoch 34/40\n",
      "1250/1250 [==============================] - 21s 17ms/step - loss: 0.5261 - acc: 0.8212 - val_loss: 0.8257 - val_acc: 0.7850\n",
      "Epoch 35/40\n",
      "1250/1250 [==============================] - 20s 16ms/step - loss: 0.5278 - acc: 0.8198 - val_loss: 0.5581 - val_acc: 0.8118\n",
      "Epoch 36/40\n",
      "1250/1250 [==============================] - 21s 16ms/step - loss: 0.5201 - acc: 0.8242 - val_loss: 0.7786 - val_acc: 0.7863\n",
      "Epoch 37/40\n",
      "1250/1250 [==============================] - 21s 16ms/step - loss: 0.5136 - acc: 0.8271 - val_loss: 0.5342 - val_acc: 0.8272\n",
      "Epoch 38/40\n",
      "1250/1250 [==============================] - 21s 16ms/step - loss: 0.5116 - acc: 0.8276 - val_loss: 0.5222 - val_acc: 0.8292\n",
      "Epoch 39/40\n",
      "1250/1250 [==============================] - 20s 16ms/step - loss: 0.4991 - acc: 0.8307 - val_loss: 0.5761 - val_acc: 0.8194\n",
      "Epoch 40/40\n",
      "1250/1250 [==============================] - 21s 16ms/step - loss: 0.5018 - acc: 0.8305 - val_loss: 0.6663 - val_acc: 0.8040\n"
     ]
    },
    {
     "data": {
      "image/png": "[encoded data removed]",
      "text/plain": [
       "<Figure size 432x288 with 1 Axes>"
      ]
     },
     "metadata": {
      "needs_background": "light"
     },
     "output_type": "display_data"
    },
    {
     "data": {
      "image/png": "[encoded data removed]",
      "text/plain": [
       "<Figure size 432x288 with 1 Axes>"
      ]
     },
     "metadata": {
      "needs_background": "light"
     },
     "output_type": "display_data"
    }
   ],
   "source": [
    "# fit the model\n",
    "\n",
    "history = model.fit_generator(datagen.flow(x_tr, y_tr, batch_size=32), steps_per_epoch=1250, epochs=40, \n",
    "                              validation_data=(x_val, y_val))\n",
    "\n",
    "import matplotlib.pyplot as plt\n",
    "%matplotlib inline\n",
    "\n",
    "acc = history.history['acc']\n",
    "val_acc = history.history['val_acc']\n",
    "\n",
    "epochs = range(len(acc))\n",
    "\n",
    "plt.plot(epochs, acc, 'bo', label='Training acc')\n",
    "plt.plot(epochs, val_acc, 'r', label='Validation acc')\n",
    "plt.xlabel('Epochs')\n",
    "plt.ylabel('Accuracy')\n",
    "plt.legend()\n",
    "plt.show()\n",
    "\n",
    "loss = history.history['loss']\n",
    "val_loss = history.history['val_loss']\n",
    "\n",
    "plt.plot(epochs, loss, 'bo', label='Training loss')\n",
    "plt.plot(epochs, val_loss, 'r', label='Validation loss')\n",
    "plt.xlabel('Epochs')\n",
    "plt.ylabel('Loss')\n",
    "plt.legend()\n",
    "plt.show()\n"
   ]
  },
  {
   "cell_type": "code",
   "execution_count": 7,
   "metadata": {},
   "outputs": [
    {
     "name": "stdout",
     "output_type": "stream",
     "text": [
      "10000/10000 [==============================] - 2s 173us/step\n",
      "loss = 0.6653852187871933\n",
      "accuracy = 0.8018\n"
     ]
    }
   ],
   "source": [
    "# compute the test\n",
    "\n",
    "y_test_vec = to_one_hot(y_test)\n",
    "loss_and_acc = model.evaluate(x_test, y_test_vec)\n",
    "print('loss = ' + str(loss_and_acc[0]))\n",
    "print('accuracy = ' + str(loss_and_acc[1]))"
   ]
  },
  {
   "cell_type": "code",
   "execution_count": null,
   "metadata": {},
   "outputs": [],
   "source": []
  }
 ],
 "metadata": {
  "kernelspec": {
   "display_name": "Python 3",
   "language": "python",
   "name": "python3"
  },
  "language_info": {
   "codemirror_mode": {
    "name": "ipython",
    "version": 3
   },
   "file_extension": ".py",
   "mimetype": "text/x-python",
   "name": "python",
   "nbconvert_exporter": "python",
   "pygments_lexer": "ipython3",
   "version": "3.6.9"
  }
 },
 "nbformat": 4,
 "nbformat_minor": 2
}
